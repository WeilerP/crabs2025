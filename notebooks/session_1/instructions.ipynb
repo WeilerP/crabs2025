{
 "cells": [
  {
   "attachments": {},
   "cell_type": "markdown",
   "id": "0a1042cd",
   "metadata": {},
   "source": [
    "# Single-cell RNA sequencing data analysis tutorial\n",
    "\n",
    "In this first session, we will preprocess and cell type a [dataset of peripheral blood mononuclear cells](https://www.10xgenomics.com/datasets/10-k-pbm-cs-from-a-healthy-donor-v-3-chemistry-3-standard-3-0-0) (PBMCs).\n",
    "\n",
    "If you cloned the GitHub repo and installed the corresponding package, save the data in the `data/` directory.\n",
    "\n",
    "Useful links:\n",
    "* [anndata](https://anndata.readthedocs.io/en/stable/)\n",
    "* [scanpy](https://scanpy.readthedocs.io/en/stable/)\n",
    "* [Single-cell best practices book](https://www.sc-best-practices.org/preamble.html)"
   ]
  },
  {
   "cell_type": "markdown",
   "id": "a486fec1",
   "metadata": {},
   "source": [
    "## Library imports"
   ]
  },
  {
   "cell_type": "code",
   "execution_count": null,
   "id": "fd119f55-1837-43ca-8368-e12c55652f2b",
   "metadata": {},
   "outputs": [],
   "source": [
    "# `DATA_DIR` is a pathlib Path pointing to this repo's data directory.\n",
    "# You can specify a path with the syntax `DATA_DIR / path / to / file`.\n",
    "from crabs import DATA_DIR  # noqa"
   ]
  },
  {
   "attachments": {},
   "cell_type": "markdown",
   "id": "b6b48f3e-9560-47d4-bd6d-25aa5db08c13",
   "metadata": {},
   "source": [
    "## General settings"
   ]
  },
  {
   "cell_type": "code",
   "execution_count": null,
   "id": "6578f2c2",
   "metadata": {},
   "outputs": [],
   "source": [
    "# Set the verbosity of Scanpy to 2"
   ]
  },
  {
   "attachments": {},
   "cell_type": "markdown",
   "id": "e2670fad",
   "metadata": {},
   "source": [
    "## Constants"
   ]
  },
  {
   "cell_type": "markdown",
   "id": "e4b7e465",
   "metadata": {},
   "source": [
    "## Function definitions"
   ]
  },
  {
   "attachments": {},
   "cell_type": "markdown",
   "id": "01d6a832-9635-4888-8364-3e5736c8d8af",
   "metadata": {},
   "source": [
    "## Data loading"
   ]
  },
  {
   "cell_type": "code",
   "execution_count": null,
   "id": "2baf9be8",
   "metadata": {
    "lines_to_next_cell": 2
   },
   "outputs": [],
   "source": [
    "# Load the PBMC data into the AnnData format"
   ]
  },
  {
   "cell_type": "markdown",
   "id": "e43f80ad",
   "metadata": {},
   "source": [
    "## Data exploration"
   ]
  },
  {
   "cell_type": "code",
   "execution_count": null,
   "id": "d76a81b7",
   "metadata": {
    "lines_to_next_cell": 2
   },
   "outputs": [],
   "source": [
    "# Follow the instruction issued when loading the data"
   ]
  },
  {
   "cell_type": "code",
   "execution_count": null,
   "id": "61149068",
   "metadata": {
    "lines_to_next_cell": 2
   },
   "outputs": [],
   "source": [
    "# How many cells and genes does the data contain?"
   ]
  },
  {
   "cell_type": "code",
   "execution_count": null,
   "id": "9d3031dc",
   "metadata": {
    "lines_to_next_cell": 2
   },
   "outputs": [],
   "source": [
    "# Which format is the data saved as? Why?\n",
    "\n",
    "# scRNA-seq data is very sparse, i.e., has many zeros entries"
   ]
  },
  {
   "attachments": {},
   "cell_type": "markdown",
   "id": "a52d5add-d75b-4e84-8336-e9632460a818",
   "metadata": {},
   "source": [
    "## Quality control"
   ]
  },
  {
   "cell_type": "code",
   "execution_count": null,
   "id": "eeafe01f",
   "metadata": {
    "lines_to_next_cell": 2
   },
   "outputs": [],
   "source": [
    "# Remove cells with less than 100 transcripts"
   ]
  },
  {
   "cell_type": "code",
   "execution_count": null,
   "id": "c03f42f7",
   "metadata": {
    "lines_to_next_cell": 2
   },
   "outputs": [],
   "source": [
    "# Remove genes expressed in less than 10 cells"
   ]
  },
  {
   "cell_type": "code",
   "execution_count": null,
   "id": "a1029bc2",
   "metadata": {
    "lines_to_next_cell": 2
   },
   "outputs": [],
   "source": [
    "# Detect mitochondrial genes and add a boolean flag to the gene metadata"
   ]
  },
  {
   "cell_type": "code",
   "execution_count": null,
   "id": "5594588b",
   "metadata": {
    "lines_to_next_cell": 2
   },
   "outputs": [],
   "source": [
    "# Detect ribosomal genes and add a boolean flag to the gene metadata"
   ]
  },
  {
   "cell_type": "code",
   "execution_count": null,
   "id": "c952f8fe",
   "metadata": {
    "lines_to_next_cell": 2
   },
   "outputs": [],
   "source": [
    "# Compute cell-wise quality metrics\n",
    "# - Total counts\n",
    "# - The number of genes expressed each cell\n",
    "# - Total number of counts for mitochondrial genes\n",
    "# - Proportion of total counts which are mitochondrial"
   ]
  },
  {
   "cell_type": "code",
   "execution_count": null,
   "id": "3667b2d9",
   "metadata": {
    "lines_to_next_cell": 2
   },
   "outputs": [],
   "source": [
    "# Plot the number of transcripts present in each cell against the percentage of observed mitochondrial genes"
   ]
  },
  {
   "cell_type": "code",
   "execution_count": null,
   "id": "2595ebbd",
   "metadata": {
    "lines_to_next_cell": 2
   },
   "outputs": [],
   "source": [
    "# Plot the number of transcripts present in each cell against the number of genes"
   ]
  },
  {
   "cell_type": "code",
   "execution_count": null,
   "id": "cbc4f585",
   "metadata": {
    "lines_to_next_cell": 2
   },
   "outputs": [],
   "source": [
    "# Remove likely dead/dying cells and data outliers"
   ]
  },
  {
   "cell_type": "code",
   "execution_count": null,
   "id": "67d2c11b",
   "metadata": {
    "lines_to_next_cell": 2
   },
   "outputs": [],
   "source": [
    "# Replot above's plots"
   ]
  },
  {
   "cell_type": "markdown",
   "id": "be17d595",
   "metadata": {},
   "source": [
    "## Data preprocessing"
   ]
  },
  {
   "cell_type": "markdown",
   "id": "3dc18286",
   "metadata": {},
   "source": [
    "### Doublet detection"
   ]
  },
  {
   "cell_type": "code",
   "execution_count": null,
   "id": "a044abb9",
   "metadata": {
    "lines_to_next_cell": 2
   },
   "outputs": [],
   "source": [
    "# Compute doublet statistics with scrublet"
   ]
  },
  {
   "cell_type": "code",
   "execution_count": null,
   "id": "8c7b9d9a",
   "metadata": {
    "lines_to_next_cell": 2
   },
   "outputs": [],
   "source": [
    "# Visualize the distribution of the doublet score\n",
    "# Above which threshold is a cell considered a doublet?"
   ]
  },
  {
   "cell_type": "code",
   "execution_count": null,
   "id": "026d57ea",
   "metadata": {
    "lines_to_next_cell": 2
   },
   "outputs": [],
   "source": [
    "# How many cells does scrublet identify as putative doublets?"
   ]
  },
  {
   "cell_type": "markdown",
   "id": "369e42bf",
   "metadata": {},
   "source": [
    "### Transformation and feature selection"
   ]
  },
  {
   "cell_type": "code",
   "execution_count": null,
   "id": "ee2621cf",
   "metadata": {
    "lines_to_next_cell": 2
   },
   "outputs": [],
   "source": [
    "# Normalize the cells to their median library size (total number of transcripts per cell)"
   ]
  },
  {
   "cell_type": "code",
   "execution_count": null,
   "id": "29582eb6",
   "metadata": {
    "lines_to_next_cell": 2
   },
   "outputs": [],
   "source": [
    "# Log1p transform the data\n",
    "# Why do we use log1p transformation?"
   ]
  },
  {
   "cell_type": "code",
   "execution_count": null,
   "id": "ceea46d2",
   "metadata": {
    "lines_to_next_cell": 2
   },
   "outputs": [],
   "source": [
    "# Select the 4000 most highly variable genes"
   ]
  },
  {
   "cell_type": "markdown",
   "id": "acba5a24",
   "metadata": {},
   "source": [
    "### Dimensionality reduction"
   ]
  },
  {
   "cell_type": "code",
   "execution_count": null,
   "id": "49eed6d1",
   "metadata": {
    "lines_to_next_cell": 2
   },
   "outputs": [],
   "source": [
    "# Compute the principal component embedding"
   ]
  },
  {
   "cell_type": "code",
   "execution_count": null,
   "id": "3aa5e619",
   "metadata": {
    "lines_to_next_cell": 2
   },
   "outputs": [],
   "source": [
    "# What is a suitbale number of principle components to use"
   ]
  },
  {
   "cell_type": "code",
   "execution_count": null,
   "id": "c81550f2",
   "metadata": {
    "lines_to_next_cell": 2
   },
   "outputs": [],
   "source": [
    "# Compute a k-nearest neighbor graph with k=30"
   ]
  },
  {
   "cell_type": "code",
   "execution_count": null,
   "id": "30c3e85c",
   "metadata": {
    "lines_to_next_cell": 2
   },
   "outputs": [],
   "source": [
    "# Compute and plot the UMAP embedding of the data"
   ]
  },
  {
   "cell_type": "markdown",
   "id": "0c2fb845",
   "metadata": {},
   "source": [
    "## Data clustering"
   ]
  },
  {
   "cell_type": "code",
   "execution_count": null,
   "id": "6dd07858",
   "metadata": {
    "lines_to_next_cell": 2
   },
   "outputs": [],
   "source": [
    "# Compute a Leiden clustering of the data"
   ]
  },
  {
   "cell_type": "code",
   "execution_count": null,
   "id": "6c14ed9b",
   "metadata": {
    "lines_to_next_cell": 2
   },
   "outputs": [],
   "source": [
    "# Display the UMAP embedding, colored by leiden cluster"
   ]
  },
  {
   "cell_type": "code",
   "execution_count": null,
   "id": "b21214f8",
   "metadata": {
    "lines_to_next_cell": 2
   },
   "outputs": [],
   "source": [
    "# Is there a cluster of cells likely comprised of doublets?"
   ]
  },
  {
   "cell_type": "markdown",
   "id": "5fc196f5",
   "metadata": {},
   "source": [
    "## Cell typing"
   ]
  },
  {
   "cell_type": "code",
   "execution_count": null,
   "id": "978c3ef6",
   "metadata": {},
   "outputs": [],
   "source": [
    "# Given the following cell type markers, assign cell types to clusters\n",
    "# B cells: MS4A1, CD79A, IGHM\n",
    "# T cells: CD4, CD8A, CD3D, CD3E, TRAC, LTB, IL7R, CCL4\n",
    "# Natural killer cells: NKG7, KLRD1, PRF1, CD74, FCGR3A and low T cell marker expression\n",
    "# Monocytes: CD14, CD163, TYROBP, LYZ, CSF1R, CD68"
   ]
  },
  {
   "cell_type": "code",
   "execution_count": null,
   "id": "d51038f8",
   "metadata": {},
   "outputs": [],
   "source": []
  },
  {
   "cell_type": "code",
   "execution_count": null,
   "id": "6045cb76",
   "metadata": {},
   "outputs": [],
   "source": []
  }
 ],
 "metadata": {
  "kernelspec": {
   "display_name": "crabs-py311",
   "language": "python",
   "name": "python3"
  },
  "language_info": {
   "codemirror_mode": {
    "name": "ipython",
    "version": 3
   },
   "file_extension": ".py",
   "mimetype": "text/x-python",
   "name": "python",
   "nbconvert_exporter": "python",
   "pygments_lexer": "ipython3",
   "version": "3.11.13"
  }
 },
 "nbformat": 4,
 "nbformat_minor": 5
}
