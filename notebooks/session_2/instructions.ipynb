{
 "cells": [
  {
   "attachments": {},
   "cell_type": "markdown",
   "id": "0a1042cd",
   "metadata": {},
   "source": [
    "# Single-cell RNA sequencing data analysis tutorial\n",
    "\n",
    "In this session, you will process another dataset of dataset of peripheral blood mononuclear cells (PBMCs), ultimately run into an issue, and get the chance to brainstorm about possible solutions to resolve the problem.\n",
    "\n",
    "You can download the needed data from [here](https://github.com/JinmiaoChenLab/Batch-effect-removal-benchmarking/tree/master/Data/dataset5); [this]() is the corresponding paper.\n",
    "\n",
    "Useful links:\n",
    "* [anndata](https://anndata.readthedocs.io/en/stable/)\n",
    "* [scanpy](https://scanpy.readthedocs.io/en/stable/)\n",
    "* [Single-cell best practices book](https://www.sc-best-practices.org/preamble.html)"
   ]
  },
  {
   "cell_type": "markdown",
   "id": "a486fec1",
   "metadata": {},
   "source": [
    "## Library imports"
   ]
  },
  {
   "cell_type": "code",
   "execution_count": null,
   "id": "fd119f55-1837-43ca-8368-e12c55652f2b",
   "metadata": {},
   "outputs": [],
   "source": [
    "# `DATA_DIR` is a pathlib Path pointing to this repo's data directory.\n",
    "# You can specify a path with the syntax `DATA_DIR / path / to / file`.\n",
    "from crabs import DATA_DIR  # noqa"
   ]
  },
  {
   "attachments": {},
   "cell_type": "markdown",
   "id": "b6b48f3e-9560-47d4-bd6d-25aa5db08c13",
   "metadata": {},
   "source": [
    "## General settings"
   ]
  },
  {
   "cell_type": "code",
   "execution_count": null,
   "id": "6578f2c2",
   "metadata": {},
   "outputs": [],
   "source": [
    "# Set the verbosity of Scanpy to 2"
   ]
  },
  {
   "attachments": {},
   "cell_type": "markdown",
   "id": "e2670fad",
   "metadata": {},
   "source": [
    "## Constants"
   ]
  },
  {
   "cell_type": "markdown",
   "id": "e4b7e465",
   "metadata": {},
   "source": [
    "## Function definitions"
   ]
  },
  {
   "attachments": {},
   "cell_type": "markdown",
   "id": "01d6a832-9635-4888-8364-3e5736c8d8af",
   "metadata": {},
   "source": [
    "## Data loading"
   ]
  },
  {
   "cell_type": "code",
   "execution_count": null,
   "id": "2baf9be8",
   "metadata": {
    "lines_to_next_cell": 2
   },
   "outputs": [],
   "source": [
    "# Load the data of the first dataset (b1) into the AnnData format"
   ]
  },
  {
   "cell_type": "code",
   "execution_count": null,
   "id": "68d0b27f",
   "metadata": {},
   "outputs": [],
   "source": [
    "# Load the data of the second dataset (b2) into the AnnData format"
   ]
  },
  {
   "cell_type": "markdown",
   "id": "e43f80ad",
   "metadata": {},
   "source": [
    "## Data exploration"
   ]
  },
  {
   "cell_type": "code",
   "execution_count": null,
   "id": "d76a81b7",
   "metadata": {
    "lines_to_next_cell": 2
   },
   "outputs": [],
   "source": [
    "# Convert the count data into an appropriate, data-efficient format"
   ]
  },
  {
   "cell_type": "code",
   "execution_count": null,
   "id": "aab12920",
   "metadata": {},
   "outputs": [],
   "source": [
    "# Does the cell metadata include information to uniquely identify each dataset?\n",
    "# If not, add the dataset-specific identifiers `\"sample_1\"` and `\"sample_2\"` as\n",
    "# the column `\"sample\"` to each AnnData's cell metadata (.obs)."
   ]
  },
  {
   "cell_type": "code",
   "execution_count": null,
   "id": "de488368",
   "metadata": {},
   "outputs": [],
   "source": [
    "# Combine the two AnnData objetcs into a single one, retaining all genes"
   ]
  },
  {
   "cell_type": "code",
   "execution_count": null,
   "id": "7904cff1",
   "metadata": {},
   "outputs": [],
   "source": [
    "# Delete the individual data objects to reduce the memory footprint"
   ]
  },
  {
   "attachments": {},
   "cell_type": "markdown",
   "id": "a52d5add-d75b-4e84-8336-e9632460a818",
   "metadata": {},
   "source": [
    "## Quality control"
   ]
  },
  {
   "cell_type": "code",
   "execution_count": null,
   "id": "eeafe01f",
   "metadata": {
    "lines_to_next_cell": 2
   },
   "outputs": [],
   "source": [
    "# Remove cells with less than 100 transcripts"
   ]
  },
  {
   "cell_type": "code",
   "execution_count": null,
   "id": "c03f42f7",
   "metadata": {
    "lines_to_next_cell": 2
   },
   "outputs": [],
   "source": [
    "# Remove genes expressed in less than 10 cells"
   ]
  },
  {
   "cell_type": "code",
   "execution_count": null,
   "id": "a1029bc2",
   "metadata": {
    "lines_to_next_cell": 2
   },
   "outputs": [],
   "source": [
    "# Detect mitochondrial genes and add a boolean flag to the gene metadata"
   ]
  },
  {
   "cell_type": "code",
   "execution_count": null,
   "id": "5594588b",
   "metadata": {
    "lines_to_next_cell": 2
   },
   "outputs": [],
   "source": [
    "# Detect ribosomal genes and add a boolean flag to the gene metadata"
   ]
  },
  {
   "cell_type": "code",
   "execution_count": null,
   "id": "c952f8fe",
   "metadata": {
    "lines_to_next_cell": 2
   },
   "outputs": [],
   "source": [
    "# Compute cell-wise quality metrics\n",
    "# - Total counts\n",
    "# - The number of genes expressed each cell\n",
    "# - Total number of counts for mitochondrial genes\n",
    "# - Proportion of total counts which are mitochondrial"
   ]
  },
  {
   "cell_type": "code",
   "execution_count": null,
   "id": "3667b2d9",
   "metadata": {
    "lines_to_next_cell": 2
   },
   "outputs": [],
   "source": [
    "# Plot the number of transcripts present in each cell against the percentage of observed mitochondrial genes"
   ]
  },
  {
   "cell_type": "code",
   "execution_count": null,
   "id": "2595ebbd",
   "metadata": {
    "lines_to_next_cell": 2
   },
   "outputs": [],
   "source": [
    "# Plot the number of transcripts present in each cell against the number of genes"
   ]
  },
  {
   "cell_type": "code",
   "execution_count": null,
   "id": "cbc4f585",
   "metadata": {
    "lines_to_next_cell": 2
   },
   "outputs": [],
   "source": [
    "# Remove likely dead/dying cells and data outliers"
   ]
  },
  {
   "cell_type": "code",
   "execution_count": null,
   "id": "67d2c11b",
   "metadata": {
    "lines_to_next_cell": 2
   },
   "outputs": [],
   "source": [
    "# Replot above's plots"
   ]
  },
  {
   "cell_type": "markdown",
   "id": "be17d595",
   "metadata": {},
   "source": [
    "## Data preprocessing"
   ]
  },
  {
   "cell_type": "markdown",
   "id": "369e42bf",
   "metadata": {},
   "source": [
    "### Transformation and feature selection"
   ]
  },
  {
   "cell_type": "code",
   "execution_count": null,
   "id": "ee2621cf",
   "metadata": {
    "lines_to_next_cell": 2
   },
   "outputs": [],
   "source": [
    "# Normalize the cells to their median library size (total number of transcripts per cell)"
   ]
  },
  {
   "cell_type": "code",
   "execution_count": null,
   "id": "29582eb6",
   "metadata": {
    "lines_to_next_cell": 2
   },
   "outputs": [],
   "source": [
    "# Log1p transform the data"
   ]
  },
  {
   "cell_type": "code",
   "execution_count": null,
   "id": "ceea46d2",
   "metadata": {
    "lines_to_next_cell": 2
   },
   "outputs": [],
   "source": [
    "# Select highly variable genes"
   ]
  },
  {
   "cell_type": "markdown",
   "id": "acba5a24",
   "metadata": {},
   "source": [
    "### Dimensionality reduction"
   ]
  },
  {
   "cell_type": "code",
   "execution_count": null,
   "id": "49eed6d1",
   "metadata": {
    "lines_to_next_cell": 2
   },
   "outputs": [],
   "source": [
    "# Compute the principal component embedding"
   ]
  },
  {
   "cell_type": "code",
   "execution_count": null,
   "id": "3aa5e619",
   "metadata": {
    "lines_to_next_cell": 2
   },
   "outputs": [],
   "source": [
    "# What is a suitbale number of principle components to use"
   ]
  },
  {
   "cell_type": "code",
   "execution_count": null,
   "id": "c81550f2",
   "metadata": {
    "lines_to_next_cell": 2
   },
   "outputs": [],
   "source": [
    "# Compute a k-nearest neighbor graph with k=30"
   ]
  },
  {
   "cell_type": "code",
   "execution_count": null,
   "id": "30c3e85c",
   "metadata": {},
   "outputs": [],
   "source": [
    "# Compute and plot the UMAP embedding of the data, colored by cell type and by sample"
   ]
  }
 ],
 "metadata": {
  "kernelspec": {
   "display_name": "crabs-py311",
   "language": "python",
   "name": "python3"
  },
  "language_info": {
   "codemirror_mode": {
    "name": "ipython",
    "version": 3
   },
   "file_extension": ".py",
   "mimetype": "text/x-python",
   "name": "python",
   "nbconvert_exporter": "python",
   "pygments_lexer": "ipython3",
   "version": "3.11.13"
  }
 },
 "nbformat": 4,
 "nbformat_minor": 5
}
